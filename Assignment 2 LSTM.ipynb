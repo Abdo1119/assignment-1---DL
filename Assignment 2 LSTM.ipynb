{
  "nbformat": 4,
  "nbformat_minor": 0,
  "metadata": {
    "colab": {
      "provenance": []
    },
    "kernelspec": {
      "name": "python3",
      "display_name": "Python 3"
    },
    "language_info": {
      "name": "python"
    }
  },
  "cells": [
    {
      "cell_type": "code",
      "execution_count": 1,
      "metadata": {
        "colab": {
          "base_uri": "https://localhost:8080/"
        },
        "id": "LJrwRzEq6oOm",
        "outputId": "5104ce81-73c2-445c-b68a-744f88277540"
      },
      "outputs": [
        {
          "output_type": "stream",
          "name": "stdout",
          "text": [
            "Predictions at each time step: [array([-0.03024766]), array([-0.04487923]), array([-0.05234583]), array([-0.05634209])]\n",
            "Final predicted value: [-0.94557225]\n"
          ]
        }
      ],
      "source": [
        "import numpy as np\n",
        "\n",
        "input_dimension = 1\n",
        "hidden_dimension = 1\n",
        "\n",
        "W_f = np.random.randn(hidden_dimension, hidden_dimension)\n",
        "W_i = np.random.randn(hidden_dimension, hidden_dimension)\n",
        "W_o = np.random.randn(hidden_dimension, hidden_dimension)\n",
        "W_c = np.random.randn(hidden_dimension, hidden_dimension)\n",
        "\n",
        "b_f = np.random.randn(hidden_dimension)\n",
        "b_i = np.random.randn(hidden_dimension)\n",
        "b_o = np.random.randn(hidden_dimension)\n",
        "b_c = np.random.randn(hidden_dimension)\n",
        "\n",
        "C_t_1 = np.zeros(hidden_dimension)\n",
        "h_t_1 = np.zeros(hidden_dimension)\n",
        "\n",
        "X = np.array([0.5, 0.8, 0.2, 0.9])\n",
        "\n",
        "def sigmoid(x):\n",
        "    return 1 / (1 + np.exp(-x))\n",
        "\n",
        "def tanh(x):\n",
        "    return np.tanh(x)\n",
        "\n",
        "predictions = []\n",
        "\n",
        "for t in range(len(X)):\n",
        "    x_t = X[t]\n",
        "\n",
        "    f_t = sigmoid(np.dot(W_f, h_t_1) + b_f)\n",
        "    i_t = sigmoid(np.dot(W_i, h_t_1) + b_i)\n",
        "    C_tilde_t = tanh(np.dot(W_c, h_t_1) + b_c)\n",
        "    C_t = f_t * C_t_1 + i_t * C_tilde_t\n",
        "    o_t = sigmoid(np.dot(W_o, h_t_1) + b_o)\n",
        "    h_t = o_t * tanh(C_t)\n",
        "\n",
        "    predictions.append(h_t)\n",
        "\n",
        "    C_t_1 = C_t\n",
        "    h_t_1 = h_t\n",
        "\n",
        "W_y = np.random.randn(1, hidden_dimension)\n",
        "b_y = np.random.randn(1)\n",
        "\n",
        "y_pred = np.dot(W_y, h_t) + b_y\n",
        "\n",
        "print(\"Predictions at each time step:\", predictions)\n",
        "print(\"Final predicted value:\", y_pred)\n"
      ]
    },
    {
      "cell_type": "code",
      "source": [],
      "metadata": {
        "id": "kher668W61zM"
      },
      "execution_count": null,
      "outputs": []
    }
  ]
}